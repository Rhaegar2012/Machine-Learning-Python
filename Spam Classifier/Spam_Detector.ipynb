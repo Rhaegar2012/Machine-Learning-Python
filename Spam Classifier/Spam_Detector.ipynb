{
 "cells": [
  {
   "cell_type": "code",
   "execution_count": 39,
   "metadata": {},
   "outputs": [
    {
     "name": "stdout",
     "output_type": "stream",
     "text": [
      "None\n"
     ]
    },
    {
     "ename": "UnicodeDecodeError",
     "evalue": "'charmap' codec can't decode byte 0x8d in position 3062: character maps to <undefined>",
     "output_type": "error",
     "traceback": [
      "\u001b[1;31m---------------------------------------------------------------------------\u001b[0m",
      "\u001b[1;31mUnicodeDecodeError\u001b[0m                        Traceback (most recent call last)",
      "\u001b[1;32m<ipython-input-39-269d2f864126>\u001b[0m in \u001b[0;36m<module>\u001b[1;34m\u001b[0m\n\u001b[0;32m     51\u001b[0m \u001b[1;33m\u001b[0m\u001b[0m\n\u001b[0;32m     52\u001b[0m \u001b[0mham_emails\u001b[0m\u001b[1;33m=\u001b[0m\u001b[0mstring_transformation\u001b[0m\u001b[1;33m(\u001b[0m\u001b[0mham_Source_1\u001b[0m\u001b[1;33m)\u001b[0m\u001b[1;33m\u001b[0m\u001b[1;33m\u001b[0m\u001b[0m\n\u001b[1;32m---> 53\u001b[1;33m \u001b[0mspam_emails\u001b[0m\u001b[1;33m=\u001b[0m\u001b[0mstring_transformation\u001b[0m\u001b[1;33m(\u001b[0m\u001b[0mspam_Source_1\u001b[0m\u001b[1;33m)\u001b[0m\u001b[1;33m\u001b[0m\u001b[1;33m\u001b[0m\u001b[0m\n\u001b[0m",
      "\u001b[1;32m<ipython-input-39-269d2f864126>\u001b[0m in \u001b[0;36mstring_transformation\u001b[1;34m(email_path)\u001b[0m\n\u001b[0;32m     25\u001b[0m     \u001b[1;32mfor\u001b[0m \u001b[0mfile\u001b[0m \u001b[1;32min\u001b[0m \u001b[0mfile_list\u001b[0m\u001b[1;33m:\u001b[0m\u001b[1;33m\u001b[0m\u001b[1;33m\u001b[0m\u001b[0m\n\u001b[0;32m     26\u001b[0m         \u001b[0memail_file\u001b[0m\u001b[1;33m=\u001b[0m\u001b[0mopen\u001b[0m\u001b[1;33m(\u001b[0m\u001b[0mfile\u001b[0m\u001b[1;33m)\u001b[0m\u001b[1;33m\u001b[0m\u001b[1;33m\u001b[0m\u001b[0m\n\u001b[1;32m---> 27\u001b[1;33m         \u001b[0memail_text\u001b[0m\u001b[1;33m=\u001b[0m\u001b[0memail_file\u001b[0m\u001b[1;33m.\u001b[0m\u001b[0mread\u001b[0m\u001b[1;33m(\u001b[0m\u001b[1;33m)\u001b[0m\u001b[1;33m\u001b[0m\u001b[1;33m\u001b[0m\u001b[0m\n\u001b[0m\u001b[0;32m     28\u001b[0m         \u001b[0memail_object\u001b[0m\u001b[1;33m=\u001b[0m\u001b[0mem\u001b[0m\u001b[1;33m.\u001b[0m\u001b[0mmessage_from_string\u001b[0m\u001b[1;33m(\u001b[0m\u001b[0memail_text\u001b[0m\u001b[1;33m)\u001b[0m\u001b[1;33m\u001b[0m\u001b[1;33m\u001b[0m\u001b[0m\n\u001b[0;32m     29\u001b[0m         \u001b[0memail\u001b[0m\u001b[1;33m=\u001b[0m\u001b[0mget_first_text_part\u001b[0m\u001b[1;33m(\u001b[0m\u001b[0memail_object\u001b[0m\u001b[1;33m)\u001b[0m\u001b[1;33m\u001b[0m\u001b[1;33m\u001b[0m\u001b[0m\n",
      "\u001b[1;32m~\\anaconda3\\lib\\encodings\\cp1252.py\u001b[0m in \u001b[0;36mdecode\u001b[1;34m(self, input, final)\u001b[0m\n\u001b[0;32m     21\u001b[0m \u001b[1;32mclass\u001b[0m \u001b[0mIncrementalDecoder\u001b[0m\u001b[1;33m(\u001b[0m\u001b[0mcodecs\u001b[0m\u001b[1;33m.\u001b[0m\u001b[0mIncrementalDecoder\u001b[0m\u001b[1;33m)\u001b[0m\u001b[1;33m:\u001b[0m\u001b[1;33m\u001b[0m\u001b[1;33m\u001b[0m\u001b[0m\n\u001b[0;32m     22\u001b[0m     \u001b[1;32mdef\u001b[0m \u001b[0mdecode\u001b[0m\u001b[1;33m(\u001b[0m\u001b[0mself\u001b[0m\u001b[1;33m,\u001b[0m \u001b[0minput\u001b[0m\u001b[1;33m,\u001b[0m \u001b[0mfinal\u001b[0m\u001b[1;33m=\u001b[0m\u001b[1;32mFalse\u001b[0m\u001b[1;33m)\u001b[0m\u001b[1;33m:\u001b[0m\u001b[1;33m\u001b[0m\u001b[1;33m\u001b[0m\u001b[0m\n\u001b[1;32m---> 23\u001b[1;33m         \u001b[1;32mreturn\u001b[0m \u001b[0mcodecs\u001b[0m\u001b[1;33m.\u001b[0m\u001b[0mcharmap_decode\u001b[0m\u001b[1;33m(\u001b[0m\u001b[0minput\u001b[0m\u001b[1;33m,\u001b[0m\u001b[0mself\u001b[0m\u001b[1;33m.\u001b[0m\u001b[0merrors\u001b[0m\u001b[1;33m,\u001b[0m\u001b[0mdecoding_table\u001b[0m\u001b[1;33m)\u001b[0m\u001b[1;33m[\u001b[0m\u001b[1;36m0\u001b[0m\u001b[1;33m]\u001b[0m\u001b[1;33m\u001b[0m\u001b[1;33m\u001b[0m\u001b[0m\n\u001b[0m\u001b[0;32m     24\u001b[0m \u001b[1;33m\u001b[0m\u001b[0m\n\u001b[0;32m     25\u001b[0m \u001b[1;32mclass\u001b[0m \u001b[0mStreamWriter\u001b[0m\u001b[1;33m(\u001b[0m\u001b[0mCodec\u001b[0m\u001b[1;33m,\u001b[0m\u001b[0mcodecs\u001b[0m\u001b[1;33m.\u001b[0m\u001b[0mStreamWriter\u001b[0m\u001b[1;33m)\u001b[0m\u001b[1;33m:\u001b[0m\u001b[1;33m\u001b[0m\u001b[1;33m\u001b[0m\u001b[0m\n",
      "\u001b[1;31mUnicodeDecodeError\u001b[0m: 'charmap' codec can't decode byte 0x8d in position 3062: character maps to <undefined>"
     ]
    }
   ],
   "source": [
    "#Data preparation\n",
    "import os\n",
    "import email as em\n",
    "ham_Source_1=r\"C:\\Users\\joseb\\Documents\\GitHub\\Machine-Learning-Python\\Spam Classifier\\easy_ham\\easy_ham\"\n",
    "spam_Source_1=r\"C:\\Users\\joseb\\Documents\\GitHub\\Machine-Learning-Python\\Spam Classifier\\spam_2\\spam_2\"\n",
    "def get_first_text_part(msg):\n",
    "    maintype = msg.get_content_maintype()\n",
    "    if maintype == 'multipart':\n",
    "        for part in msg.get_payload():\n",
    "            if part.get_content_maintype() == 'text':\n",
    "                return part.get_payload()\n",
    "    elif maintype == 'text':\n",
    "        return msg.get_payload()\n",
    "def string_transformation(email_path):\n",
    "    \"\"\"\n",
    "    Input: Email file (as txt) file path\n",
    "    Output: nested list of words per email\n",
    "    Extracts words from an email file filtering all the characters such as digits\n",
    "    punctuation and space\n",
    "    \"\"\"\n",
    "    os.chdir(email_path)\n",
    "    file_list=os.listdir(email_path)\n",
    "    emails=[]\n",
    "    processed_emails=[]\n",
    "    for file in file_list:\n",
    "        email_file=open(file)\n",
    "        email_text=email_file.read()\n",
    "        email_object=em.message_from_string(email_text)\n",
    "        email=get_first_text_part(email_object)\n",
    "        emails.append(email)\n",
    "    for e in range(len(emails)-1):\n",
    "        if emails[e] is not None:\n",
    "            first_stage=emails[e].lower()\n",
    "            second_stage=first_stage.strip()\n",
    "            third_stage=second_stage.split()\n",
    "            for word in third_stage:\n",
    "                word=''.join(char for char in word if char.isalpha())\n",
    "            filters=0\n",
    "            while filters<10:\n",
    "                for word in third_stage:\n",
    "                    word_index=third_stage.index(word)\n",
    "                    for char in word:\n",
    "                        if char in \"1234567890.!@?$_-()[]{},+│/*=:;<>\\\"\":\n",
    "                            new_word=word.replace(char,\"\")\n",
    "                            third_stage[word_index]=new_word\n",
    "            \n",
    "                filters+=1\n",
    "        processed_emails.append(third_stage)\n",
    "    return processed_emails\n",
    "\n",
    "ham_emails=string_transformation(ham_Source_1)\n",
    "spam_emails=string_transformation(spam_Source_1)"
   ]
  },
  {
   "cell_type": "code",
   "execution_count": null,
   "metadata": {},
   "outputs": [],
   "source": []
  }
 ],
 "metadata": {
  "kernelspec": {
   "display_name": "Python 3",
   "language": "python",
   "name": "python3"
  },
  "language_info": {
   "codemirror_mode": {
    "name": "ipython",
    "version": 3
   },
   "file_extension": ".py",
   "mimetype": "text/x-python",
   "name": "python",
   "nbconvert_exporter": "python",
   "pygments_lexer": "ipython3",
   "version": "3.8.5"
  }
 },
 "nbformat": 4,
 "nbformat_minor": 4
}
